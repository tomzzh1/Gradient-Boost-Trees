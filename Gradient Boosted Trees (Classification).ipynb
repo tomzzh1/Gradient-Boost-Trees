{
 "cells": [
  {
   "cell_type": "code",
   "execution_count": 1,
   "metadata": {},
   "outputs": [],
   "source": [
    "import pandas as pd\n",
    "from matplotlib import pyplot as plt\n",
    "from sklearn.tree import DecisionTreeRegressor, plot_tree\n",
    "from sklearn import tree\n",
    "import numpy as np\n",
    "import handcalcs.render"
   ]
  },
  {
   "cell_type": "code",
   "execution_count": 2,
   "metadata": {},
   "outputs": [
    {
     "data": {
      "text/html": [
       "<div>\n",
       "<style scoped>\n",
       "    .dataframe tbody tr th:only-of-type {\n",
       "        vertical-align: middle;\n",
       "    }\n",
       "\n",
       "    .dataframe tbody tr th {\n",
       "        vertical-align: top;\n",
       "    }\n",
       "\n",
       "    .dataframe thead th {\n",
       "        text-align: right;\n",
       "    }\n",
       "</style>\n",
       "<table border=\"1\" class=\"dataframe\">\n",
       "  <thead>\n",
       "    <tr style=\"text-align: right;\">\n",
       "      <th></th>\n",
       "      <th>like Popcorn</th>\n",
       "      <th>Ages</th>\n",
       "      <th>Favorite Color</th>\n",
       "      <th>Love Trolls2</th>\n",
       "      <th>Residual1</th>\n",
       "    </tr>\n",
       "  </thead>\n",
       "  <tbody>\n",
       "    <tr>\n",
       "      <th>0</th>\n",
       "      <td>True</td>\n",
       "      <td>12</td>\n",
       "      <td>0</td>\n",
       "      <td>True</td>\n",
       "      <td>0.306853</td>\n",
       "    </tr>\n",
       "    <tr>\n",
       "      <th>1</th>\n",
       "      <td>True</td>\n",
       "      <td>87</td>\n",
       "      <td>1</td>\n",
       "      <td>True</td>\n",
       "      <td>0.306853</td>\n",
       "    </tr>\n",
       "    <tr>\n",
       "      <th>2</th>\n",
       "      <td>False</td>\n",
       "      <td>44</td>\n",
       "      <td>0</td>\n",
       "      <td>False</td>\n",
       "      <td>-0.693147</td>\n",
       "    </tr>\n",
       "    <tr>\n",
       "      <th>3</th>\n",
       "      <td>True</td>\n",
       "      <td>19</td>\n",
       "      <td>2</td>\n",
       "      <td>False</td>\n",
       "      <td>-0.693147</td>\n",
       "    </tr>\n",
       "    <tr>\n",
       "      <th>4</th>\n",
       "      <td>False</td>\n",
       "      <td>32</td>\n",
       "      <td>1</td>\n",
       "      <td>True</td>\n",
       "      <td>0.306853</td>\n",
       "    </tr>\n",
       "    <tr>\n",
       "      <th>5</th>\n",
       "      <td>False</td>\n",
       "      <td>14</td>\n",
       "      <td>0</td>\n",
       "      <td>True</td>\n",
       "      <td>0.306853</td>\n",
       "    </tr>\n",
       "  </tbody>\n",
       "</table>\n",
       "</div>"
      ],
      "text/plain": [
       "   like Popcorn  Ages  Favorite Color  Love Trolls2  Residual1\n",
       "0          True    12               0          True   0.306853\n",
       "1          True    87               1          True   0.306853\n",
       "2         False    44               0         False  -0.693147\n",
       "3          True    19               2         False  -0.693147\n",
       "4         False    32               1          True   0.306853\n",
       "5         False    14               0          True   0.306853"
      ]
     },
     "execution_count": 2,
     "metadata": {},
     "output_type": "execute_result"
    }
   ],
   "source": [
    "# Color 0: blue, 1:Green, 2: Red\n",
    "# Gender 0 Male, 1 Female\n",
    "\n",
    "\n",
    "data = pd.DataFrame({'like Popcorn': [True, True, False,True,False,False],\n",
    "                    'Ages':[12,87,44,19,32,14],\n",
    "                    'Favorite Color':[0,1,0,2,1,0],\n",
    "                     'Love Trolls2':[True,True,False, False,True, True]\n",
    "                    })\n",
    "\n",
    "data['Residual1'] = data['Love Trolls2'] - np.log(4/2)\n",
    "data"
   ]
  },
  {
   "cell_type": "code",
   "execution_count": 87,
   "metadata": {},
   "outputs": [
    {
     "data": {
      "image/png": "[encoded data removed]",
      "text/plain": [
       "<Figure size 576x288 with 1 Axes>"
      ]
     },
     "metadata": {
      "needs_background": "light"
     },
     "output_type": "display_data"
    }
   ],
   "source": [
    "data =data.sort_values(by = ['like Popcorn', 'Ages', 'Favorite Color'])\n",
    "X,y = data[['like Popcorn', 'Ages', 'Favorite Color']], data['Residual1'] \n",
    "tree1 = DecisionTreeRegressor(max_depth=2)\n",
    "tree1 = tree1.fit(X, y)\n",
    "\n",
    "fig = plt.figure(figsize=(8,4))\n",
    "_ = tree.plot_tree(tree1, feature_names = X.columns, filled = True)"
   ]
  },
  {
   "cell_type": "code",
   "execution_count": null,
   "metadata": {},
   "outputs": [],
   "source": []
  },
  {
   "cell_type": "code",
   "execution_count": 67,
   "metadata": {},
   "outputs": [],
   "source": [
    "residual = tree1.predict(X)[data['Favorite Color'] == 2]\n",
    "proba = 0.7*(np.ones(1) - 0.7)"
   ]
  },
  {
   "cell_type": "code",
   "execution_count": 68,
   "metadata": {},
   "outputs": [
    {
     "data": {
      "text/latex": [
       "\\[\n",
       "\\begin{aligned}\n",
       "\\mathrm{residual} &= \\Sigma { \\mathrm{residual} } = \\Sigma { -0.693 } &= -0.693\\;\\;\\textrm{(total residaul)}\n",
       "\\\\[10pt]\n",
       "\\mathrm{output1} &= \\frac{ \\mathrm{residual} }{ \\mathrm{proba} } = \\frac{ -0.693 }{ [0.21] } &= [-3.301]\\;\\;\\textrm{(output value)}\n",
       "\\end{aligned}\n",
       "\\]"
      ],
      "text/plain": [
       "<IPython.core.display.Latex object>"
      ]
     },
     "metadata": {},
     "output_type": "display_data"
    }
   ],
   "source": [
    "%%render\n",
    "residual = sum(residual) # total residaul \n",
    "output1 = residual/(proba) # output value"
   ]
  },
  {
   "cell_type": "code",
   "execution_count": 69,
   "metadata": {},
   "outputs": [],
   "source": [
    "residual = tree1.predict(X)[(data['Favorite Color'].values != 2) &  (data['Ages'].values > 37)]\n",
    "proba = 0.7*(np.ones(2) - 0.7)"
   ]
  },
  {
   "cell_type": "code",
   "execution_count": 70,
   "metadata": {},
   "outputs": [
    {
     "data": {
      "text/latex": [
       "\\[\n",
       "\\begin{aligned}\n",
       "\\mathrm{residual} &= \\Sigma { \\mathrm{residual} } = \\Sigma { -0.386 } &= -0.386\\;\\;\\textrm{(total residaul)}\n",
       "\\\\[10pt]\n",
       "\\mathrm{output2} &= \\frac{ \\mathrm{residual} }{ \\Sigma { \\mathrm{proba} } } = \\frac{ -0.386 }{ \\Sigma { [0.21,\\ 0.21] } } &= -0.92\\;\\;\\textrm{(output value)}\n",
       "\\end{aligned}\n",
       "\\]"
      ],
      "text/plain": [
       "<IPython.core.display.Latex object>"
      ]
     },
     "metadata": {},
     "output_type": "display_data"
    }
   ],
   "source": [
    "%%render\n",
    "residual = sum(residual) # total residaul \n",
    "output2 = residual/sum(proba) # output value"
   ]
  },
  {
   "cell_type": "code",
   "execution_count": 71,
   "metadata": {},
   "outputs": [],
   "source": [
    "residual = tree1.predict(X)[(data['Favorite Color'].values != 2) &  (data['Ages'].values < 37)]\n",
    "proba = 0.7*(np.ones(3) - 0.7)"
   ]
  },
  {
   "cell_type": "code",
   "execution_count": 72,
   "metadata": {},
   "outputs": [
    {
     "data": {
      "text/latex": [
       "\\[\n",
       "\\begin{aligned}\n",
       "\\mathrm{residual} &= \\Sigma { \\mathrm{residual} } = \\Sigma { 0.921 } &= 0.921\\;\\;\\textrm{(total residaul)}\n",
       "\\\\[10pt]\n",
       "\\mathrm{output3} &= \\frac{ \\mathrm{residual} }{ \\Sigma { \\mathrm{proba} } } = \\frac{ 0.921 }{ \\Sigma { [0.21,\\ 0.21,\\ 0.21] } } &= 1.461\\;\\;\\textrm{(output value)}\n",
       "\\end{aligned}\n",
       "\\]"
      ],
      "text/plain": [
       "<IPython.core.display.Latex object>"
      ]
     },
     "metadata": {},
     "output_type": "display_data"
    }
   ],
   "source": [
    "%%render\n",
    "residual = sum(residual) # total residaul \n",
    "output3 = residual/sum(proba) # output value"
   ]
  },
  {
   "cell_type": "code",
   "execution_count": 73,
   "metadata": {},
   "outputs": [
    {
     "name": "stdout",
     "output_type": "stream",
     "text": [
      "[0.12483566] 0.48933871553408437 0.8655427313885561\n"
     ]
    }
   ],
   "source": [
    "learning_rate = 0.8\n",
    "proba1 = np.exp(np.log(4/2) + 0.8 * output1)/(1+np.exp(np.log(4/2) + 0.8 * output1))\n",
    "proba2 = np.exp(np.log(4/2) + 0.8 * output2)/(1+np.exp(np.log(4/2) + 0.8 * output2))\n",
    "proba3 = np.exp(np.log(4/2) + 0.8 * output3)/(1+np.exp(np.log(4/2) + 0.8 * output3))\n",
    "\n",
    "print(proba1, proba2, proba3)"
   ]
  },
  {
   "cell_type": "code",
   "execution_count": 74,
   "metadata": {},
   "outputs": [
    {
     "name": "stderr",
     "output_type": "stream",
     "text": [
      "c:\\users\\tomzz\\appdata\\local\\programs\\python\\python37\\lib\\site-packages\\pandas\\core\\indexing.py:670: SettingWithCopyWarning: \n",
      "A value is trying to be set on a copy of a slice from a DataFrame\n",
      "\n",
      "See the caveats in the documentation: https://pandas.pydata.org/pandas-docs/stable/user_guide/indexing.html#returning-a-view-versus-a-copy\n",
      "  iloc._setitem_with_indexer(indexer, value)\n"
     ]
    },
    {
     "data": {
      "text/html": [
       "<div>\n",
       "<style scoped>\n",
       "    .dataframe tbody tr th:only-of-type {\n",
       "        vertical-align: middle;\n",
       "    }\n",
       "\n",
       "    .dataframe tbody tr th {\n",
       "        vertical-align: top;\n",
       "    }\n",
       "\n",
       "    .dataframe thead th {\n",
       "        text-align: right;\n",
       "    }\n",
       "</style>\n",
       "<table border=\"1\" class=\"dataframe\">\n",
       "  <thead>\n",
       "    <tr style=\"text-align: right;\">\n",
       "      <th></th>\n",
       "      <th>like Popcorn</th>\n",
       "      <th>Ages</th>\n",
       "      <th>Favorite Color</th>\n",
       "      <th>Love Trolls2</th>\n",
       "      <th>Residual1</th>\n",
       "      <th>new prediction</th>\n",
       "      <th>Residual2</th>\n",
       "    </tr>\n",
       "  </thead>\n",
       "  <tbody>\n",
       "    <tr>\n",
       "      <th>5</th>\n",
       "      <td>False</td>\n",
       "      <td>14</td>\n",
       "      <td>0</td>\n",
       "      <td>True</td>\n",
       "      <td>0.306853</td>\n",
       "      <td>0.865543</td>\n",
       "      <td>0.134457</td>\n",
       "    </tr>\n",
       "    <tr>\n",
       "      <th>4</th>\n",
       "      <td>False</td>\n",
       "      <td>32</td>\n",
       "      <td>1</td>\n",
       "      <td>True</td>\n",
       "      <td>0.306853</td>\n",
       "      <td>0.865543</td>\n",
       "      <td>0.134457</td>\n",
       "    </tr>\n",
       "    <tr>\n",
       "      <th>2</th>\n",
       "      <td>False</td>\n",
       "      <td>44</td>\n",
       "      <td>0</td>\n",
       "      <td>False</td>\n",
       "      <td>-0.693147</td>\n",
       "      <td>0.489339</td>\n",
       "      <td>-0.489339</td>\n",
       "    </tr>\n",
       "    <tr>\n",
       "      <th>0</th>\n",
       "      <td>True</td>\n",
       "      <td>12</td>\n",
       "      <td>0</td>\n",
       "      <td>True</td>\n",
       "      <td>0.306853</td>\n",
       "      <td>0.865543</td>\n",
       "      <td>0.134457</td>\n",
       "    </tr>\n",
       "    <tr>\n",
       "      <th>3</th>\n",
       "      <td>True</td>\n",
       "      <td>19</td>\n",
       "      <td>2</td>\n",
       "      <td>False</td>\n",
       "      <td>-0.693147</td>\n",
       "      <td>0.124836</td>\n",
       "      <td>-0.124836</td>\n",
       "    </tr>\n",
       "    <tr>\n",
       "      <th>1</th>\n",
       "      <td>True</td>\n",
       "      <td>87</td>\n",
       "      <td>1</td>\n",
       "      <td>True</td>\n",
       "      <td>0.306853</td>\n",
       "      <td>0.489339</td>\n",
       "      <td>0.510661</td>\n",
       "    </tr>\n",
       "  </tbody>\n",
       "</table>\n",
       "</div>"
      ],
      "text/plain": [
       "   like Popcorn  Ages  Favorite Color  Love Trolls2  Residual1  \\\n",
       "5         False    14               0          True   0.306853   \n",
       "4         False    32               1          True   0.306853   \n",
       "2         False    44               0         False  -0.693147   \n",
       "0          True    12               0          True   0.306853   \n",
       "3          True    19               2         False  -0.693147   \n",
       "1          True    87               1          True   0.306853   \n",
       "\n",
       "   new prediction  Residual2  \n",
       "5        0.865543   0.134457  \n",
       "4        0.865543   0.134457  \n",
       "2        0.489339  -0.489339  \n",
       "0        0.865543   0.134457  \n",
       "3        0.124836  -0.124836  \n",
       "1        0.489339   0.510661  "
      ]
     },
     "execution_count": 74,
     "metadata": {},
     "output_type": "execute_result"
    }
   ],
   "source": [
    "data['new prediction'] = 0\n",
    "data['new prediction'].loc[data['Favorite Color'] == 2] = proba1\n",
    "data['new prediction'].loc[(data['Favorite Color'].values != 2) &  (data['Ages'].values > 37)] = proba2\n",
    "data['new prediction'].loc[(data['Favorite Color'].values != 2) &  (data['Ages'].values < 37)] = proba3\n",
    "data"
   ]
  },
  {
   "cell_type": "code",
   "execution_count": 75,
   "metadata": {},
   "outputs": [
    {
     "data": {
      "text/html": [
       "<div>\n",
       "<style scoped>\n",
       "    .dataframe tbody tr th:only-of-type {\n",
       "        vertical-align: middle;\n",
       "    }\n",
       "\n",
       "    .dataframe tbody tr th {\n",
       "        vertical-align: top;\n",
       "    }\n",
       "\n",
       "    .dataframe thead th {\n",
       "        text-align: right;\n",
       "    }\n",
       "</style>\n",
       "<table border=\"1\" class=\"dataframe\">\n",
       "  <thead>\n",
       "    <tr style=\"text-align: right;\">\n",
       "      <th></th>\n",
       "      <th>like Popcorn</th>\n",
       "      <th>Ages</th>\n",
       "      <th>Favorite Color</th>\n",
       "      <th>Love Trolls2</th>\n",
       "      <th>Residual1</th>\n",
       "      <th>new prediction</th>\n",
       "      <th>Residual2</th>\n",
       "    </tr>\n",
       "  </thead>\n",
       "  <tbody>\n",
       "    <tr>\n",
       "      <th>5</th>\n",
       "      <td>False</td>\n",
       "      <td>14</td>\n",
       "      <td>0</td>\n",
       "      <td>True</td>\n",
       "      <td>0.306853</td>\n",
       "      <td>0.865543</td>\n",
       "      <td>0.134457</td>\n",
       "    </tr>\n",
       "    <tr>\n",
       "      <th>4</th>\n",
       "      <td>False</td>\n",
       "      <td>32</td>\n",
       "      <td>1</td>\n",
       "      <td>True</td>\n",
       "      <td>0.306853</td>\n",
       "      <td>0.865543</td>\n",
       "      <td>0.134457</td>\n",
       "    </tr>\n",
       "    <tr>\n",
       "      <th>2</th>\n",
       "      <td>False</td>\n",
       "      <td>44</td>\n",
       "      <td>0</td>\n",
       "      <td>False</td>\n",
       "      <td>-0.693147</td>\n",
       "      <td>0.489339</td>\n",
       "      <td>-0.489339</td>\n",
       "    </tr>\n",
       "    <tr>\n",
       "      <th>0</th>\n",
       "      <td>True</td>\n",
       "      <td>12</td>\n",
       "      <td>0</td>\n",
       "      <td>True</td>\n",
       "      <td>0.306853</td>\n",
       "      <td>0.865543</td>\n",
       "      <td>0.134457</td>\n",
       "    </tr>\n",
       "    <tr>\n",
       "      <th>3</th>\n",
       "      <td>True</td>\n",
       "      <td>19</td>\n",
       "      <td>2</td>\n",
       "      <td>False</td>\n",
       "      <td>-0.693147</td>\n",
       "      <td>0.124836</td>\n",
       "      <td>-0.124836</td>\n",
       "    </tr>\n",
       "    <tr>\n",
       "      <th>1</th>\n",
       "      <td>True</td>\n",
       "      <td>87</td>\n",
       "      <td>1</td>\n",
       "      <td>True</td>\n",
       "      <td>0.306853</td>\n",
       "      <td>0.489339</td>\n",
       "      <td>0.510661</td>\n",
       "    </tr>\n",
       "  </tbody>\n",
       "</table>\n",
       "</div>"
      ],
      "text/plain": [
       "   like Popcorn  Ages  Favorite Color  Love Trolls2  Residual1  \\\n",
       "5         False    14               0          True   0.306853   \n",
       "4         False    32               1          True   0.306853   \n",
       "2         False    44               0         False  -0.693147   \n",
       "0          True    12               0          True   0.306853   \n",
       "3          True    19               2         False  -0.693147   \n",
       "1          True    87               1          True   0.306853   \n",
       "\n",
       "   new prediction  Residual2  \n",
       "5        0.865543   0.134457  \n",
       "4        0.865543   0.134457  \n",
       "2        0.489339  -0.489339  \n",
       "0        0.865543   0.134457  \n",
       "3        0.124836  -0.124836  \n",
       "1        0.489339   0.510661  "
      ]
     },
     "execution_count": 75,
     "metadata": {},
     "output_type": "execute_result"
    }
   ],
   "source": [
    "data['Residual2'] = data['Love Trolls2'] - data['new prediction']\n",
    "data"
   ]
  },
  {
   "cell_type": "code",
   "execution_count": 76,
   "metadata": {},
   "outputs": [
    {
     "data": {
      "image/png": "[encoded data removed]",
      "text/plain": [
       "<Figure size 504x288 with 1 Axes>"
      ]
     },
     "metadata": {
      "needs_background": "light"
     },
     "output_type": "display_data"
    }
   ],
   "source": [
    "#data =data.sort_values(by = ['Favorite Color','Ages'])\n",
    "X,y = data[['like Popcorn', 'Ages', 'Favorite Color']], data['Residual2'] \n",
    "tree2 = DecisionTreeRegressor(max_depth=2)\n",
    "tree2 = tree1.fit(X, y)\n",
    "\n",
    "fig = plt.figure(figsize=(7,4))\n",
    "_ = tree.plot_tree(tree1, feature_names = X.columns, filled = True)"
   ]
  },
  {
   "cell_type": "code",
   "execution_count": 77,
   "metadata": {},
   "outputs": [],
   "source": [
    "residual = tree2.predict(X)[data['Ages'] > 65]\n",
    "proba = data['new prediction'].loc[data['Ages'] > 65] * \\\n",
    "        (np.ones(1) - data['new prediction'].loc[data['Ages'] > 65])"
   ]
  },
  {
   "cell_type": "code",
   "execution_count": 78,
   "metadata": {},
   "outputs": [
    {
     "data": {
      "text/latex": [
       "\\[\n",
       "\\begin{aligned}\n",
       "\\mathrm{residual} &= \\Sigma { \\mathrm{residual} } = \\Sigma { 0.511 } &= 0.511\\;\\;\\textrm{(total residaul)}\n",
       "\\\\[10pt]\n",
       "\\mathrm{output1} &= \\frac{ \\mathrm{residual} }{ \\Sigma { \\mathrm{proba} } } = \\frac{ 0.511 }{ \\Sigma { [0.25] } } &= 2.044\\;\\;\\textrm{(output value)}\n",
       "\\end{aligned}\n",
       "\\]"
      ],
      "text/plain": [
       "<IPython.core.display.Latex object>"
      ]
     },
     "metadata": {},
     "output_type": "display_data"
    }
   ],
   "source": [
    "%%render\n",
    "residual = sum(residual) # total residaul \n",
    "output1 = residual/sum(proba) # output value"
   ]
  },
  {
   "cell_type": "code",
   "execution_count": 79,
   "metadata": {},
   "outputs": [
    {
     "name": "stderr",
     "output_type": "stream",
     "text": [
      "c:\\users\\tomzz\\appdata\\local\\programs\\python\\python37\\lib\\site-packages\\ipykernel_launcher.py:1: FutureWarning: Using a non-tuple sequence for multidimensional indexing is deprecated; use `arr[tuple(seq)]` instead of `arr[seq]`. In the future this will be interpreted as an array index, `arr[np.array(seq)]`, which will result either in an error or a different result.\n",
      "  \"\"\"Entry point for launching an IPython kernel.\n"
     ]
    }
   ],
   "source": [
    "residual = tree2.predict(X)[[data['Ages'] <= 38]]\n",
    "proba = data['new prediction'].loc[data['Ages'] <= 38] * \\\n",
    "        (np.ones(4) - data['new prediction'].loc[data['Ages'] <= 38])"
   ]
  },
  {
   "cell_type": "code",
   "execution_count": 80,
   "metadata": {},
   "outputs": [
    {
     "data": {
      "text/latex": [
       "\\[\n",
       "\\begin{aligned}\n",
       "\\mathrm{residual} &= \\Sigma { \\mathrm{residual} } = \\Sigma { 0.279 } &= 0.279\\;\\;\\textrm{(total residaul)}\n",
       "\\\\[10pt]\n",
       "\\mathrm{output2} &= \\frac{ \\mathrm{residual} }{ \\Sigma { \\mathrm{proba} } } = \\frac{ 0.279 }{ \\Sigma { [0.116,\\ 0.116,\\ 0.116,\\ 0.109] } } &= 0.608\\;\\;\\textrm{(output value)}\n",
       "\\end{aligned}\n",
       "\\]"
      ],
      "text/plain": [
       "<IPython.core.display.Latex object>"
      ]
     },
     "metadata": {},
     "output_type": "display_data"
    }
   ],
   "source": [
    "%%render\n",
    "residual = sum(residual) # total residaul \n",
    "output2 = residual/sum(proba) # output value"
   ]
  },
  {
   "cell_type": "code",
   "execution_count": 81,
   "metadata": {},
   "outputs": [
    {
     "name": "stderr",
     "output_type": "stream",
     "text": [
      "c:\\users\\tomzz\\appdata\\local\\programs\\python\\python37\\lib\\site-packages\\ipykernel_launcher.py:1: FutureWarning: Using a non-tuple sequence for multidimensional indexing is deprecated; use `arr[tuple(seq)]` instead of `arr[seq]`. In the future this will be interpreted as an array index, `arr[np.array(seq)]`, which will result either in an error or a different result.\n",
      "  \"\"\"Entry point for launching an IPython kernel.\n"
     ]
    }
   ],
   "source": [
    "residual = tree2.predict(X)[[(data['Ages'] > 38) & (data['Ages'] < 65) ]]\n",
    "proba = data['new prediction'].loc[(data['Ages'] > 38) & (data['Ages'] < 65)] * \\\n",
    "        (np.ones(1) - data['new prediction'].loc[(data['Ages'] > 38) & (data['Ages'] < 65)])"
   ]
  },
  {
   "cell_type": "code",
   "execution_count": 82,
   "metadata": {},
   "outputs": [
    {
     "data": {
      "text/latex": [
       "\\[\n",
       "\\begin{aligned}\n",
       "\\mathrm{residual} &= \\Sigma { \\mathrm{residual} } = \\Sigma { -0.489 } &= -0.489\\;\\;\\textrm{(total residaul)}\n",
       "\\\\[10pt]\n",
       "\\mathrm{output3} &= \\frac{ \\mathrm{residual} }{ \\Sigma { \\mathrm{proba} } } = \\frac{ -0.489 }{ \\Sigma { [0.25] } } &= -1.958\\;\\;\\textrm{(output value)}\n",
       "\\end{aligned}\n",
       "\\]"
      ],
      "text/plain": [
       "<IPython.core.display.Latex object>"
      ]
     },
     "metadata": {},
     "output_type": "display_data"
    }
   ],
   "source": [
    "%%render\n",
    "residual = sum(residual) # total residaul \n",
    "output3 = residual/sum(proba) # output value"
   ]
  },
  {
   "cell_type": "code",
   "execution_count": 83,
   "metadata": {},
   "outputs": [],
   "source": [
    "# using the new prediction, the residual is smaller than before,\n",
    "# we take another step toward right direction, \n",
    "# We build another tree based on the residual, and predict those residual on the next tree\n",
    "# we repeat the process until we reach the maximum numbers of trees or residual is small enough\n"
   ]
  },
  {
   "cell_type": "code",
   "execution_count": 120,
   "metadata": {},
   "outputs": [
    {
     "data": {
      "text/html": [
       "<div>\n",
       "<style scoped>\n",
       "    .dataframe tbody tr th:only-of-type {\n",
       "        vertical-align: middle;\n",
       "    }\n",
       "\n",
       "    .dataframe tbody tr th {\n",
       "        vertical-align: top;\n",
       "    }\n",
       "\n",
       "    .dataframe thead th {\n",
       "        text-align: right;\n",
       "    }\n",
       "</style>\n",
       "<table border=\"1\" class=\"dataframe\">\n",
       "  <thead>\n",
       "    <tr style=\"text-align: right;\">\n",
       "      <th></th>\n",
       "      <th>like Popcorn</th>\n",
       "      <th>Ages</th>\n",
       "      <th>Favorite Color</th>\n",
       "    </tr>\n",
       "  </thead>\n",
       "  <tbody>\n",
       "    <tr>\n",
       "      <th>6</th>\n",
       "      <td>True</td>\n",
       "      <td>25</td>\n",
       "      <td>1</td>\n",
       "    </tr>\n",
       "  </tbody>\n",
       "</table>\n",
       "</div>"
      ],
      "text/plain": [
       "   like Popcorn  Ages  Favorite Color\n",
       "6          True    25               1"
      ]
     },
     "execution_count": 120,
     "metadata": {},
     "output_type": "execute_result"
    }
   ],
   "source": [
    "# Let us try just one example\n",
    "\n",
    "temp = data.iloc[:,0:3].append(pd.Series([True,25,1], index = X.columns[:3]),ignore_index=True)\n",
    "temp.iloc[[6]]"
   ]
  },
  {
   "cell_type": "code",
   "execution_count": 125,
   "metadata": {},
   "outputs": [
    {
     "name": "stdout",
     "output_type": "stream",
     "text": [
      "The output value from tree1 1.4426950408889634 \n",
      "\n",
      "The probability from tree1 0.8638101583039105 \n",
      "\n",
      "The output value from tree2 0.591913907245472\n"
     ]
    }
   ],
   "source": [
    "out1 =  float(tree1.predict(temp.iloc[[6]])/(np.log(4/2) *(1-np.log(4/2))))\n",
    "\n",
    "prob1 = np.exp(np.log(4/2) + 0.8 * out1)/(1+np.exp(np.log(4/2) + 0.8 * out1))\n",
    "\n",
    "print('The output value from tree1',out1, '\\n')\n",
    "\n",
    "print('The probability from tree1',prob1, '\\n')\n",
    "\n",
    "out2 =  float(tree2.predict(temp.iloc[[6]])/(prob1 *(1-prob1)))\n",
    "\n",
    "print('The output value from tree2',out2)"
   ]
  },
  {
   "cell_type": "code",
   "execution_count": 128,
   "metadata": {},
   "outputs": [
    {
     "data": {
      "text/latex": [
       "\\[\n",
       "\\begin{aligned}\n",
       "\\mathrm{final} &= 2.321\\;\n",
       "\\\\[10pt]\n",
       "\\mathrm{probability} &= 0.911\\;\n",
       "\\end{aligned}\n",
       "\\]"
      ],
      "text/plain": [
       "<IPython.core.display.Latex object>"
      ]
     },
     "metadata": {},
     "output_type": "display_data"
    }
   ],
   "source": [
    "%%render\n",
    "final  = np.log(4/2) + learning_rate * out1 + learning_rate *out2\n",
    "\n",
    "probability = np.exp(final)/(1+np.exp(final))"
   ]
  }
 ],
 "metadata": {
  "kernelspec": {
   "display_name": "Python 3",
   "language": "python",
   "name": "python3"
  },
  "language_info": {
   "codemirror_mode": {
    "name": "ipython",
    "version": 3
   },
   "file_extension": ".py",
   "mimetype": "text/x-python",
   "name": "python",
   "nbconvert_exporter": "python",
   "pygments_lexer": "ipython3",
   "version": "3.7.9"
  }
 },
 "nbformat": 4,
 "nbformat_minor": 4
}
